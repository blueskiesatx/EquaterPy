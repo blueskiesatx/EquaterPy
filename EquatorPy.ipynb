{
 "cells": [
  {
   "cell_type": "markdown",
   "metadata": {},
   "source": [
    "# WeatherPy\n",
    "----\n",
    "\n",
    "### Analysis\n",
    "* As expected, the weather becomes significantly warmer as one approaches the equator (0 Deg. Latitude). More interestingly, however, is the fact that the southern hemisphere tends to be warmer this time of year than the northern hemisphere. This may be due to the tilt of the earth.\n",
    "* There is no strong relationship between latitude and cloudiness. However, it is interesting to see that a strong band of cities sits at 0, 80, and 100% cloudiness.\n",
    "* There is no strong relationship between latitude and wind speed. However, in northern hemispheres there is a flurry of cities with over 20 mph of wind.\n"
   ]
  },
  {
   "cell_type": "code",
   "execution_count": 7,
   "metadata": {
    "scrolled": true
   },
   "outputs": [],
   "source": [
    "#Dependencies and Setup\n",
    "#Your environment may need to have pip installed seaborn, citipy, matplotlib, numpy, and others\n",
    "#Imported more than needed to try different approaches\n",
    "import matplotlib.pyplot as plt\n",
    "import pandas as pd\n",
    "import numpy as np\n",
    "import requests\n",
    "import seaborn as sns #Did not use but want to for future improvements\n",
    "import time\n",
    "import random\n",
    "import csv\n",
    "import json\n",
    "import openweathermapy.core as owm\n",
    "\n",
    "###YOU NEED A KEY###\n",
    "# Import API key for weathermap\n",
    "#from api_keys import api_key\n",
    "#or \n",
    "#api_key = \"YOUR______KEY____HERE\"\n",
    "\n",
    "# Incorporated citipy to determine city based on latitude and longitude\n",
    "from citipy import citipy as cp\n",
    "\n",
    "#Output File (CSV), \n",
    "#saving for use later but can be moved down\n",
    "output_data_file = \"output_data/cities.csv\"\n",
    "\n",
    "# List for holding lat_lngs and cities\n",
    "lat_lngs = []\n",
    "cities = []\n",
    "\n",
    "#Given range of latitudes and longitudes\n",
    "#lat_range = (-90, 90)\n",
    "#lng_range = (-180, 180)"
   ]
  },
  {
   "cell_type": "code",
   "execution_count": 8,
   "metadata": {},
   "outputs": [],
   "source": [
    "#Use random to find map coordinate list within suggested ranges\n",
    "#I used size =  25, which is a low number, for speed and framing the script. \n",
    "#Change size to 60 for time limits of free api key, 1500 for paid key and patience, and better dataset\n",
    "lats = np.random.uniform(low=-90.000, high=90.000, size=25)\n",
    "lngs = np.random.uniform(low=-180.000, high=180.000, size=25)\n",
    "\n",
    "#Create the coordinate pairs using zip\n",
    "lat_lngs = zip(lats, lngs)"
   ]
  },
  {
   "cell_type": "markdown",
   "metadata": {},
   "source": [
    "# Generate Cities List"
   ]
  },
  {
   "cell_type": "code",
   "execution_count": 9,
   "metadata": {},
   "outputs": [
    {
     "data": {
      "text/plain": [
       "24"
      ]
     },
     "execution_count": 9,
     "metadata": {},
     "output_type": "execute_result"
    }
   ],
   "source": [
    "#Generate a list of cities near the suggested map coordinate ranges\n",
    "#Identify nearest city for each lat, lng combination\n",
    "for lat_lng in lat_lngs:\n",
    "    city = citipy.nearest_city(lat_lng[0], lat_lng[1]).city_name\n",
    "    \n",
    "# If the city is unique, then add it to a our cities list. This drops duplicates\n",
    "    if city not in cities:\n",
    "        cities.append(city)\n",
    "\n",
    "# Print the city count to confirm sufficient count\n",
    "len(cities)"
   ]
  },
  {
   "cell_type": "code",
   "execution_count": 10,
   "metadata": {},
   "outputs": [],
   "source": [
    "#Create dataframe\n",
    "cities_df = pd.DataFrame(cities)\n",
    "cities_df.columns = ['cities']\n",
    "cities_df\n",
    "\n",
    "#Loop through Dataframe\n",
    "#Set base url and units\n",
    "row_count = cities_df.count()\n",
    "url = \"http://api.openweathermap.org/data/2.5/weather?\"\n",
    "units = \"imperial\"\n",
    "\n",
    "#Build partial query URL. The key is essential for this step.\n",
    "query_url = f\"{url}appid={api_key}&units={units}&q=\"\n",
    "\n",
    "#Set list for suggested response results\n",
    "City = []\n",
    "Cloudiness = []\n",
    "Country = []\n",
    "Date = []\n",
    "Humidity = []\n",
    "Lat = []\n",
    "Lng = []\n",
    "MaxTemp = []\n",
    "WindSpeed = []"
   ]
  },
  {
   "cell_type": "code",
   "execution_count": 11,
   "metadata": {
    "scrolled": true
   },
   "outputs": [
    {
     "name": "stdout",
     "output_type": "stream",
     "text": [
      "Retrieving Results for Index 0: hilo.\n",
      "Processing record hilo.\n",
      "{'coord': {'lon': -155.08, 'lat': 19.71}, 'weather': [{'id': 802, 'main': 'Clouds', 'description': 'scattered clouds', 'icon': '03n'}], 'base': 'stations', 'main': {'temp': 73.04, 'pressure': 1020, 'humidity': 75, 'temp_min': 73.04, 'temp_max': 73.04}, 'visibility': 16093, 'wind': {'speed': 6.93, 'deg': 320}, 'clouds': {'all': 40}, 'dt': 1544331180, 'sys': {'type': 1, 'id': 7881, 'message': 0.0033, 'country': 'US', 'sunrise': 1544373823, 'sunset': 1544413325}, 'id': 5855927, 'name': 'Hilo', 'cod': 200}\n",
      "------------\n",
      "Retrieving Results for Index 1: vaini.\n",
      "Processing record vaini.\n",
      "{'coord': {'lon': 74.49, 'lat': 15.34}, 'weather': [{'id': 800, 'main': 'Clear', 'description': 'clear sky', 'icon': '01d'}], 'base': 'stations', 'main': {'temp': 81.48, 'pressure': 1018, 'humidity': 51, 'temp_min': 80.6, 'temp_max': 82.4}, 'visibility': 6000, 'wind': {'speed': 5.82, 'deg': 110}, 'clouds': {'all': 0}, 'dt': 1544331600, 'sys': {'type': 1, 'id': 9229, 'message': 0.0033, 'country': 'IN', 'sunrise': 1544318220, 'sunset': 1544358701}, 'id': 1273574, 'name': 'Vaini', 'cod': 200}\n",
      "------------\n",
      "Retrieving Results for Index 2: warri.\n",
      "Processing record warri.\n",
      "{'coord': {'lon': 5.75, 'lat': 5.52}, 'weather': [{'id': 801, 'main': 'Clouds', 'description': 'few clouds', 'icon': '02n'}], 'base': 'stations', 'main': {'temp': 74.77, 'pressure': 1019.69, 'humidity': 92, 'temp_min': 74.77, 'temp_max': 74.77, 'sea_level': 1026.44, 'grnd_level': 1019.69}, 'wind': {'speed': 3.02, 'deg': 164.004}, 'clouds': {'all': 24}, 'dt': 1544333012, 'sys': {'message': 0.0251, 'country': 'NG', 'sunrise': 1544333700, 'sunset': 1544376229}, 'id': 2319133, 'name': 'Warri', 'cod': 200}\n",
      "------------\n",
      "Retrieving Results for Index 3: saint-philippe.\n",
      "Processing record saint-philippe.\n",
      "{'coord': {'lon': -73.48, 'lat': 45.36}, 'weather': [{'id': 701, 'main': 'Mist', 'description': 'mist', 'icon': '50n'}, {'id': 600, 'main': 'Snow', 'description': 'light snow', 'icon': '13n'}], 'base': 'stations', 'main': {'temp': 9.23, 'pressure': 1031, 'humidity': 84, 'temp_min': 5, 'temp_max': 14.54}, 'visibility': 9656, 'wind': {'speed': 4.7, 'deg': 310}, 'clouds': {'all': 20}, 'dt': 1544331600, 'sys': {'type': 1, 'id': 820, 'message': 0.0035, 'country': 'CA', 'sunrise': 1544358106, 'sunset': 1544389855}, 'id': 6138908, 'name': 'Saint-Philippe', 'cod': 200}\n",
      "------------\n",
      "Retrieving Results for Index 4: cape town.\n",
      "Processing record cape town.\n",
      "{'coord': {'lon': 18.42, 'lat': -33.93}, 'weather': [{'id': 800, 'main': 'Clear', 'description': 'clear sky', 'icon': '01d'}], 'base': 'stations', 'main': {'temp': 64.4, 'pressure': 1020, 'humidity': 68, 'temp_min': 64.4, 'temp_max': 64.4}, 'visibility': 10000, 'wind': {'speed': 13.87, 'deg': 160}, 'clouds': {'all': 0}, 'dt': 1544331600, 'sys': {'type': 1, 'id': 1899, 'message': 0.0034, 'country': 'ZA', 'sunrise': 1544326095, 'sunset': 1544377763}, 'id': 3369157, 'name': 'Cape Town', 'cod': 200}\n",
      "------------\n",
      "Retrieving Results for Index 5: albany.\n",
      "Processing record albany.\n",
      "{'coord': {'lon': -73.75, 'lat': 42.65}, 'weather': [{'id': 800, 'main': 'Clear', 'description': 'clear sky', 'icon': '01n'}], 'base': 'stations', 'main': {'temp': 19.06, 'pressure': 1029, 'humidity': 73, 'temp_min': 15.08, 'temp_max': 24.08}, 'visibility': 16093, 'wind': {'speed': 3.36, 'deg': 180}, 'clouds': {'all': 1}, 'dt': 1544331420, 'sys': {'type': 1, 'id': 5414, 'message': 0.004, 'country': 'US', 'sunrise': 1544357611, 'sunset': 1544390481}, 'id': 5106834, 'name': 'Albany', 'cod': 200}\n",
      "------------\n",
      "Retrieving Results for Index 6: port alfred.\n",
      "Processing record port alfred.\n",
      "{'coord': {'lon': 26.89, 'lat': -33.59}, 'weather': [{'id': 500, 'main': 'Rain', 'description': 'light rain', 'icon': '10d'}], 'base': 'stations', 'main': {'temp': 63.29, 'pressure': 1024.15, 'humidity': 100, 'temp_min': 63.29, 'temp_max': 63.29, 'sea_level': 1033.05, 'grnd_level': 1024.15}, 'wind': {'speed': 5.93, 'deg': 211.504}, 'rain': {'3h': 1.6875}, 'clouds': {'all': 88}, 'dt': 1544333017, 'sys': {'message': 0.0116, 'country': 'ZA', 'sunrise': 1544324115, 'sunset': 1544375676}, 'id': 964432, 'name': 'Port Alfred', 'cod': 200}\n",
      "------------\n",
      "Retrieving Results for Index 7: barrow.\n",
      "Processing record barrow.\n",
      "{'coord': {'lon': -60.23, 'lat': -38.31}, 'weather': [{'id': 803, 'main': 'Clouds', 'description': 'broken clouds', 'icon': '04n'}], 'base': 'stations', 'main': {'temp': 76.66, 'pressure': 1007.78, 'humidity': 39, 'temp_min': 76.66, 'temp_max': 76.66, 'sea_level': 1019.55, 'grnd_level': 1007.78}, 'wind': {'speed': 14.7, 'deg': 307.004}, 'clouds': {'all': 76}, 'dt': 1544333018, 'sys': {'message': 0.0029, 'country': 'AR', 'sunrise': 1544344237, 'sunset': 1544397387}, 'id': 3833859, 'name': 'Barrow', 'cod': 200}\n",
      "------------\n",
      "Retrieving Results for Index 8: puerto ayora.\n",
      "Processing record puerto ayora.\n",
      "{'coord': {'lon': -90.35, 'lat': -0.74}, 'weather': [{'id': 802, 'main': 'Clouds', 'description': 'scattered clouds', 'icon': '03n'}], 'base': 'stations', 'main': {'temp': 71.84, 'pressure': 1019.05, 'humidity': 100, 'temp_min': 71.84, 'temp_max': 71.84, 'sea_level': 1026.32, 'grnd_level': 1019.05}, 'wind': {'speed': 8.05, 'deg': 155.504}, 'clouds': {'all': 36}, 'dt': 1544332811, 'sys': {'message': 0.0039, 'country': 'EC', 'sunrise': 1544356137, 'sunset': 1544399935}, 'id': 3652764, 'name': 'Puerto Ayora', 'cod': 200}\n",
      "------------\n",
      "Retrieving Results for Index 9: kutum.\n",
      "Processing record kutum.\n",
      "{'coord': {'lon': 24.66, 'lat': 14.2}, 'weather': [{'id': 800, 'main': 'Clear', 'description': 'clear sky', 'icon': '01d'}], 'base': 'stations', 'main': {'temp': 51.91, 'pressure': 901.76, 'humidity': 53, 'temp_min': 51.91, 'temp_max': 51.91, 'sea_level': 1032.77, 'grnd_level': 901.76}, 'wind': {'speed': 3.02, 'deg': 62.0039}, 'clouds': {'all': 0}, 'dt': 1544333020, 'sys': {'message': 0.0026, 'country': 'SD', 'sunrise': 1544330061, 'sunset': 1544370786}, 'id': 371745, 'name': 'Kutum', 'cod': 200}\n",
      "------------\n",
      "Retrieving Results for Index 10: hobart.\n",
      "Processing record hobart.\n",
      "{'coord': {'lon': 147.33, 'lat': -42.88}, 'weather': [{'id': 801, 'main': 'Clouds', 'description': 'few clouds', 'icon': '02d'}], 'base': 'stations', 'main': {'temp': 66.2, 'pressure': 1018, 'humidity': 59, 'temp_min': 66.2, 'temp_max': 66.2}, 'visibility': 10000, 'wind': {'speed': 12.75, 'deg': 60}, 'clouds': {'all': 20}, 'dt': 1544331600, 'sys': {'type': 1, 'id': 9545, 'message': 0.0038, 'country': 'AU', 'sunrise': 1544293534, 'sunset': 1544348435}, 'id': 2163355, 'name': 'Hobart', 'cod': 200}\n",
      "------------\n",
      "Retrieving Results for Index 11: agva.\n",
      "Processing record agva.\n",
      "{'cod': '404', 'message': 'city not found'}\n",
      "City not found. Skipping...\n",
      "------------\n",
      "Retrieving Results for Index 12: faanui.\n",
      "Processing record faanui.\n",
      "{'coord': {'lon': -151.75, 'lat': -16.48}, 'weather': [{'id': 500, 'main': 'Rain', 'description': 'light rain', 'icon': '10n'}], 'base': 'stations', 'main': {'temp': 80.39, 'pressure': 1023.34, 'humidity': 100, 'temp_min': 80.39, 'temp_max': 80.39, 'sea_level': 1023.52, 'grnd_level': 1023.34}, 'wind': {'speed': 12.41, 'deg': 359.004}, 'rain': {'3h': 0.3225}, 'clouds': {'all': 44}, 'dt': 1544333024, 'sys': {'message': 0.003, 'country': 'PF', 'sunrise': 1544369221, 'sunset': 1544416337}, 'id': 4034551, 'name': 'Faanui', 'cod': 200}\n",
      "------------\n",
      "Retrieving Results for Index 13: xichang.\n",
      "Processing record xichang.\n",
      "{'coord': {'lon': 102.25, 'lat': 27.88}, 'weather': [{'id': 800, 'main': 'Clear', 'description': 'clear sky', 'icon': '01d'}], 'base': 'stations', 'main': {'temp': 58.79, 'pressure': 771.82, 'humidity': 23, 'temp_min': 58.79, 'temp_max': 58.79, 'sea_level': 1026.24, 'grnd_level': 771.82}, 'wind': {'speed': 2.57, 'deg': 197.504}, 'clouds': {'all': 0}, 'dt': 1544333025, 'sys': {'message': 0.0034, 'country': 'CN', 'sunrise': 1544313026, 'sunset': 1544350564}, 'id': 1789647, 'name': 'Xichang', 'cod': 200}\n",
      "------------\n",
      "Retrieving Results for Index 14: new norfolk.\n",
      "Processing record new norfolk.\n",
      "{'coord': {'lon': 147.06, 'lat': -42.78}, 'weather': [{'id': 801, 'main': 'Clouds', 'description': 'few clouds', 'icon': '02d'}], 'base': 'stations', 'main': {'temp': 66.2, 'pressure': 1018, 'humidity': 59, 'temp_min': 66.2, 'temp_max': 66.2}, 'visibility': 10000, 'wind': {'speed': 12.75, 'deg': 60}, 'clouds': {'all': 20}, 'dt': 1544331600, 'sys': {'type': 1, 'id': 9545, 'message': 0.0032, 'country': 'AU', 'sunrise': 1544293620, 'sunset': 1544348478}, 'id': 2155415, 'name': 'New Norfolk', 'cod': 200}\n",
      "------------\n",
      "Retrieving Results for Index 15: rikitea.\n"
     ]
    },
    {
     "name": "stdout",
     "output_type": "stream",
     "text": [
      "Processing record rikitea.\n",
      "{'coord': {'lon': -134.97, 'lat': -23.12}, 'weather': [{'id': 500, 'main': 'Rain', 'description': 'light rain', 'icon': '10n'}], 'base': 'stations', 'main': {'temp': 76.93, 'pressure': 1029.83, 'humidity': 100, 'temp_min': 76.93, 'temp_max': 76.93, 'sea_level': 1029.89, 'grnd_level': 1029.83}, 'wind': {'speed': 11.45, 'deg': 34.5039}, 'rain': {'3h': 0.66}, 'clouds': {'all': 56}, 'dt': 1544333028, 'sys': {'message': 0.0229, 'country': 'PF', 'sunrise': 1544364411, 'sunset': 1544413092}, 'id': 4030556, 'name': 'Rikitea', 'cod': 200}\n",
      "------------\n",
      "Retrieving Results for Index 16: tasiilaq.\n",
      "Processing record tasiilaq.\n",
      "{'coord': {'lon': -37.64, 'lat': 65.61}, 'weather': [{'id': 802, 'main': 'Clouds', 'description': 'scattered clouds', 'icon': '03n'}], 'base': 'stations', 'main': {'temp': 19.4, 'pressure': 1014, 'humidity': 52, 'temp_min': 19.4, 'temp_max': 19.4}, 'wind': {'speed': 5.82, 'deg': 280}, 'clouds': {'all': 36}, 'dt': 1544331000, 'sys': {'type': 1, 'id': 81, 'message': 0.0361, 'country': 'GL', 'sunrise': 1544358916, 'sunset': 1544371829}, 'id': 3424607, 'name': 'Tasiilaq', 'cod': 200}\n",
      "------------\n",
      "Retrieving Results for Index 17: atuona.\n",
      "Processing record atuona.\n",
      "{'coord': {'lon': -139.03, 'lat': -9.8}, 'weather': [{'id': 804, 'main': 'Clouds', 'description': 'overcast clouds', 'icon': '04n'}], 'base': 'stations', 'main': {'temp': 80.39, 'pressure': 1025.13, 'humidity': 100, 'temp_min': 80.39, 'temp_max': 80.39, 'sea_level': 1025.27, 'grnd_level': 1025.13}, 'wind': {'speed': 16.33, 'deg': 85.5039}, 'clouds': {'all': 100}, 'dt': 1544332783, 'sys': {'message': 0.0032, 'country': 'PF', 'sunrise': 1544366892, 'sunset': 1544412556}, 'id': 4020109, 'name': 'Atuona', 'cod': 200}\n",
      "------------\n",
      "Retrieving Results for Index 18: ushuaia.\n",
      "Processing record ushuaia.\n",
      "{'coord': {'lon': -68.31, 'lat': -54.81}, 'weather': [{'id': 803, 'main': 'Clouds', 'description': 'broken clouds', 'icon': '04n'}], 'base': 'stations', 'main': {'temp': 48.2, 'pressure': 989, 'humidity': 61, 'temp_min': 48.2, 'temp_max': 48.2}, 'visibility': 10000, 'wind': {'speed': 6.93, 'deg': 200}, 'clouds': {'all': 75}, 'dt': 1544331600, 'sys': {'type': 1, 'id': 8303, 'message': 0.0036, 'country': 'AR', 'sunrise': 1544341858, 'sunset': 1544403666}, 'id': 3833367, 'name': 'Ushuaia', 'cod': 200}\n",
      "------------\n",
      "Retrieving Results for Index 19: berlevag.\n",
      "Processing record berlevag.\n",
      "{'coord': {'lon': 29.09, 'lat': 70.86}, 'weather': [{'id': 800, 'main': 'Clear', 'description': 'clear sky', 'icon': '02d'}], 'base': 'stations', 'main': {'temp': 10.28, 'pressure': 990.6, 'humidity': 100, 'temp_min': 10.28, 'temp_max': 10.28, 'sea_level': 1009.58, 'grnd_level': 990.6}, 'wind': {'speed': 3.62, 'deg': 220.004}, 'clouds': {'all': 8}, 'dt': 1544333033, 'sys': {'message': 0.0039, 'country': 'NO', 'sunrise': 0, 'sunset': 0}, 'id': 780687, 'name': 'Berlevag', 'cod': 200}\n",
      "------------\n",
      "Retrieving Results for Index 20: ca mau.\n",
      "Processing record ca mau.\n",
      "{'coord': {'lon': 105.15, 'lat': 9.18}, 'weather': [{'id': 803, 'main': 'Clouds', 'description': 'broken clouds', 'icon': '04d'}], 'base': 'stations', 'main': {'temp': 86.2, 'pressure': 1022.21, 'humidity': 79, 'temp_min': 86.2, 'temp_max': 86.2, 'sea_level': 1022.51, 'grnd_level': 1022.21}, 'wind': {'speed': 13.58, 'deg': 93.0039}, 'clouds': {'all': 80}, 'dt': 1544333034, 'sys': {'message': 0.0034, 'country': 'VN', 'sunrise': 1544310210, 'sunset': 1544351991}, 'id': 1586443, 'name': 'Ca Mau', 'cod': 200}\n",
      "------------\n",
      "Retrieving Results for Index 21: butaritari.\n",
      "Processing record butaritari.\n",
      "{'coord': {'lon': 172.79, 'lat': 3.07}, 'weather': [{'id': 803, 'main': 'Clouds', 'description': 'broken clouds', 'icon': '04d'}], 'base': 'stations', 'main': {'temp': 85.84, 'pressure': 1018.56, 'humidity': 100, 'temp_min': 85.84, 'temp_max': 85.84, 'sea_level': 1018.62, 'grnd_level': 1018.56}, 'wind': {'speed': 5.41, 'deg': 10.5039}, 'clouds': {'all': 64}, 'dt': 1544332873, 'sys': {'message': 0.0024, 'country': 'KI', 'sunrise': 1544293349, 'sunset': 1544336376}, 'id': 2110227, 'name': 'Butaritari', 'cod': 200}\n",
      "------------\n",
      "Retrieving Results for Index 22: cabedelo.\n",
      "Processing record cabedelo.\n",
      "{'coord': {'lon': -34.84, 'lat': -6.97}, 'weather': [{'id': 801, 'main': 'Clouds', 'description': 'few clouds', 'icon': '02n'}], 'base': 'stations', 'main': {'temp': 77, 'pressure': 1014, 'humidity': 94, 'temp_min': 77, 'temp_max': 77}, 'visibility': 10000, 'wind': {'speed': 2.24}, 'clouds': {'all': 20}, 'dt': 1544331600, 'sys': {'type': 1, 'id': 8391, 'message': 0.0038, 'country': 'BR', 'sunrise': 1544342175, 'sunset': 1544387246}, 'id': 3404558, 'name': 'Cabedelo', 'cod': 200}\n",
      "------------\n",
      "Retrieving Results for Index 23: east london.\n",
      "Processing record east london.\n",
      "{'coord': {'lon': 27.91, 'lat': -33.02}, 'weather': [{'id': 803, 'main': 'Clouds', 'description': 'broken clouds', 'icon': '04d'}], 'base': 'stations', 'main': {'temp': 62.6, 'pressure': 1019, 'humidity': 88, 'temp_min': 62.6, 'temp_max': 62.6}, 'visibility': 10000, 'wind': {'speed': 8.05, 'deg': 230}, 'clouds': {'all': 75}, 'dt': 1544331600, 'sys': {'type': 1, 'id': 1912, 'message': 0.0033, 'country': 'ZA', 'sunrise': 1544323958, 'sunset': 1544375342}, 'id': 1006984, 'name': 'East London', 'cod': 200}\n",
      "------------\n"
     ]
    }
   ],
   "source": [
    "#Use iterrows to iterate through pandas dataframe\n",
    "for index, row in cities_df.iterrows():\n",
    "    row_count = 0\n",
    "    \n",
    "# Get city names from the dataframe\n",
    "    city_name = row['cities']\n",
    "\n",
    "# Assemble url and make API request\n",
    "    print(f\"Retrieving Results for Index {index}: {city_name}.\")\n",
    "    response = requests.get(query_url + city_name).json()\n",
    "    time.sleep(1)\n",
    "    \n",
    "    try:\n",
    "        print(f\"Processing record {city_name}.\")\n",
    "        print(response)\n",
    "        City.append(response['name'])\n",
    "        Cloudiness.append(response['clouds']['all'])\n",
    "        Country.append(response['sys']['country'])\n",
    "        Date.append(response['dt'])\n",
    "        Humidity.append(response['main']['humidity'])\n",
    "        Lat.append(response['coord']['lat'])\n",
    "        Lng.append(response['coord']['lon'])\n",
    "        MaxTemp.append(response['main']['temp_max'])\n",
    "        WindSpeed.append(response['wind']['speed'])\n",
    "\n",
    "      \n",
    "    except (KeyError, IndexError):\n",
    "        print(\"City not found. Skipping...\")\n",
    "        \n",
    "    print(\"------------\")\n",
    "\n",
    "#Did not get this to work. Sving for later.\n",
    "#cities_df = pd.DataFrame(cities)\n",
    "#cities_df[\"City Name\"] = \"\"\n",
    "#cities_df[\"Country Code\"] = \"\"\n",
    "#for index, row in cities_df.iterrows():\n",
    "#    row[\"City Name\"] = cities_df.iloc[index,0].city_name\n",
    "#    row[\"Country Code\"] = cities_df.iloc[index,0].country_code\n",
    "#cities_df.head"
   ]
  },
  {
   "cell_type": "code",
   "execution_count": 12,
   "metadata": {},
   "outputs": [],
   "source": [
    "cities_df.to_csv(\"selected_cities.csv\", index=False)\n",
    "#Output File (CSV)\n",
    "#output_data_file = \"resources/selected_cities.csv\""
   ]
  },
  {
   "cell_type": "markdown",
   "metadata": {},
   "source": [
    "### Perform API Calls\n",
    "* The above scroll was the performance of a weather check on each city using a series of successive API calls.\n",
    "* Included a print log of each city as it'sbeing processed (with the city number and city name).\n"
   ]
  },
  {
   "cell_type": "markdown",
   "metadata": {},
   "source": [
    "### Convert Raw Data to DataFrame\n",
    "* Exported the city data into a .csv.\n",
    "* Displayed the DataFrame"
   ]
  },
  {
   "cell_type": "code",
   "execution_count": 13,
   "metadata": {},
   "outputs": [
    {
     "data": {
      "text/html": [
       "<div>\n",
       "<style scoped>\n",
       "    .dataframe tbody tr th:only-of-type {\n",
       "        vertical-align: middle;\n",
       "    }\n",
       "\n",
       "    .dataframe tbody tr th {\n",
       "        vertical-align: top;\n",
       "    }\n",
       "\n",
       "    .dataframe thead th {\n",
       "        text-align: right;\n",
       "    }\n",
       "</style>\n",
       "<table border=\"1\" class=\"dataframe\">\n",
       "  <thead>\n",
       "    <tr style=\"text-align: right;\">\n",
       "      <th></th>\n",
       "      <th>City</th>\n",
       "      <th>Cloudiness</th>\n",
       "      <th>Country</th>\n",
       "      <th>Date</th>\n",
       "      <th>Humidity</th>\n",
       "      <th>Lat</th>\n",
       "      <th>Lng</th>\n",
       "      <th>Max Temp</th>\n",
       "      <th>Wind Speed</th>\n",
       "    </tr>\n",
       "  </thead>\n",
       "  <tbody>\n",
       "    <tr>\n",
       "      <th>0</th>\n",
       "      <td>Hilo</td>\n",
       "      <td>40</td>\n",
       "      <td>US</td>\n",
       "      <td>1544331180</td>\n",
       "      <td>75</td>\n",
       "      <td>19.71</td>\n",
       "      <td>-155.08</td>\n",
       "      <td>73.04</td>\n",
       "      <td>6.93</td>\n",
       "    </tr>\n",
       "    <tr>\n",
       "      <th>1</th>\n",
       "      <td>Vaini</td>\n",
       "      <td>0</td>\n",
       "      <td>IN</td>\n",
       "      <td>1544331600</td>\n",
       "      <td>51</td>\n",
       "      <td>15.34</td>\n",
       "      <td>74.49</td>\n",
       "      <td>82.40</td>\n",
       "      <td>5.82</td>\n",
       "    </tr>\n",
       "    <tr>\n",
       "      <th>2</th>\n",
       "      <td>Warri</td>\n",
       "      <td>24</td>\n",
       "      <td>NG</td>\n",
       "      <td>1544333012</td>\n",
       "      <td>92</td>\n",
       "      <td>5.52</td>\n",
       "      <td>5.75</td>\n",
       "      <td>74.77</td>\n",
       "      <td>3.02</td>\n",
       "    </tr>\n",
       "    <tr>\n",
       "      <th>3</th>\n",
       "      <td>Saint-Philippe</td>\n",
       "      <td>20</td>\n",
       "      <td>CA</td>\n",
       "      <td>1544331600</td>\n",
       "      <td>84</td>\n",
       "      <td>45.36</td>\n",
       "      <td>-73.48</td>\n",
       "      <td>14.54</td>\n",
       "      <td>4.70</td>\n",
       "    </tr>\n",
       "    <tr>\n",
       "      <th>4</th>\n",
       "      <td>Cape Town</td>\n",
       "      <td>0</td>\n",
       "      <td>ZA</td>\n",
       "      <td>1544331600</td>\n",
       "      <td>68</td>\n",
       "      <td>-33.93</td>\n",
       "      <td>18.42</td>\n",
       "      <td>64.40</td>\n",
       "      <td>13.87</td>\n",
       "    </tr>\n",
       "    <tr>\n",
       "      <th>5</th>\n",
       "      <td>Albany</td>\n",
       "      <td>1</td>\n",
       "      <td>US</td>\n",
       "      <td>1544331420</td>\n",
       "      <td>73</td>\n",
       "      <td>42.65</td>\n",
       "      <td>-73.75</td>\n",
       "      <td>24.08</td>\n",
       "      <td>3.36</td>\n",
       "    </tr>\n",
       "    <tr>\n",
       "      <th>6</th>\n",
       "      <td>Port Alfred</td>\n",
       "      <td>88</td>\n",
       "      <td>ZA</td>\n",
       "      <td>1544333017</td>\n",
       "      <td>100</td>\n",
       "      <td>-33.59</td>\n",
       "      <td>26.89</td>\n",
       "      <td>63.29</td>\n",
       "      <td>5.93</td>\n",
       "    </tr>\n",
       "    <tr>\n",
       "      <th>7</th>\n",
       "      <td>Barrow</td>\n",
       "      <td>76</td>\n",
       "      <td>AR</td>\n",
       "      <td>1544333018</td>\n",
       "      <td>39</td>\n",
       "      <td>-38.31</td>\n",
       "      <td>-60.23</td>\n",
       "      <td>76.66</td>\n",
       "      <td>14.70</td>\n",
       "    </tr>\n",
       "    <tr>\n",
       "      <th>8</th>\n",
       "      <td>Puerto Ayora</td>\n",
       "      <td>36</td>\n",
       "      <td>EC</td>\n",
       "      <td>1544332811</td>\n",
       "      <td>100</td>\n",
       "      <td>-0.74</td>\n",
       "      <td>-90.35</td>\n",
       "      <td>71.84</td>\n",
       "      <td>8.05</td>\n",
       "    </tr>\n",
       "    <tr>\n",
       "      <th>9</th>\n",
       "      <td>Kutum</td>\n",
       "      <td>0</td>\n",
       "      <td>SD</td>\n",
       "      <td>1544333020</td>\n",
       "      <td>53</td>\n",
       "      <td>14.20</td>\n",
       "      <td>24.66</td>\n",
       "      <td>51.91</td>\n",
       "      <td>3.02</td>\n",
       "    </tr>\n",
       "    <tr>\n",
       "      <th>10</th>\n",
       "      <td>Hobart</td>\n",
       "      <td>20</td>\n",
       "      <td>AU</td>\n",
       "      <td>1544331600</td>\n",
       "      <td>59</td>\n",
       "      <td>-42.88</td>\n",
       "      <td>147.33</td>\n",
       "      <td>66.20</td>\n",
       "      <td>12.75</td>\n",
       "    </tr>\n",
       "    <tr>\n",
       "      <th>11</th>\n",
       "      <td>Faanui</td>\n",
       "      <td>44</td>\n",
       "      <td>PF</td>\n",
       "      <td>1544333024</td>\n",
       "      <td>100</td>\n",
       "      <td>-16.48</td>\n",
       "      <td>-151.75</td>\n",
       "      <td>80.39</td>\n",
       "      <td>12.41</td>\n",
       "    </tr>\n",
       "    <tr>\n",
       "      <th>12</th>\n",
       "      <td>Xichang</td>\n",
       "      <td>0</td>\n",
       "      <td>CN</td>\n",
       "      <td>1544333025</td>\n",
       "      <td>23</td>\n",
       "      <td>27.88</td>\n",
       "      <td>102.25</td>\n",
       "      <td>58.79</td>\n",
       "      <td>2.57</td>\n",
       "    </tr>\n",
       "    <tr>\n",
       "      <th>13</th>\n",
       "      <td>New Norfolk</td>\n",
       "      <td>20</td>\n",
       "      <td>AU</td>\n",
       "      <td>1544331600</td>\n",
       "      <td>59</td>\n",
       "      <td>-42.78</td>\n",
       "      <td>147.06</td>\n",
       "      <td>66.20</td>\n",
       "      <td>12.75</td>\n",
       "    </tr>\n",
       "    <tr>\n",
       "      <th>14</th>\n",
       "      <td>Rikitea</td>\n",
       "      <td>56</td>\n",
       "      <td>PF</td>\n",
       "      <td>1544333028</td>\n",
       "      <td>100</td>\n",
       "      <td>-23.12</td>\n",
       "      <td>-134.97</td>\n",
       "      <td>76.93</td>\n",
       "      <td>11.45</td>\n",
       "    </tr>\n",
       "    <tr>\n",
       "      <th>15</th>\n",
       "      <td>Tasiilaq</td>\n",
       "      <td>36</td>\n",
       "      <td>GL</td>\n",
       "      <td>1544331000</td>\n",
       "      <td>52</td>\n",
       "      <td>65.61</td>\n",
       "      <td>-37.64</td>\n",
       "      <td>19.40</td>\n",
       "      <td>5.82</td>\n",
       "    </tr>\n",
       "    <tr>\n",
       "      <th>16</th>\n",
       "      <td>Atuona</td>\n",
       "      <td>100</td>\n",
       "      <td>PF</td>\n",
       "      <td>1544332783</td>\n",
       "      <td>100</td>\n",
       "      <td>-9.80</td>\n",
       "      <td>-139.03</td>\n",
       "      <td>80.39</td>\n",
       "      <td>16.33</td>\n",
       "    </tr>\n",
       "    <tr>\n",
       "      <th>17</th>\n",
       "      <td>Ushuaia</td>\n",
       "      <td>75</td>\n",
       "      <td>AR</td>\n",
       "      <td>1544331600</td>\n",
       "      <td>61</td>\n",
       "      <td>-54.81</td>\n",
       "      <td>-68.31</td>\n",
       "      <td>48.20</td>\n",
       "      <td>6.93</td>\n",
       "    </tr>\n",
       "    <tr>\n",
       "      <th>18</th>\n",
       "      <td>Berlevag</td>\n",
       "      <td>8</td>\n",
       "      <td>NO</td>\n",
       "      <td>1544333033</td>\n",
       "      <td>100</td>\n",
       "      <td>70.86</td>\n",
       "      <td>29.09</td>\n",
       "      <td>10.28</td>\n",
       "      <td>3.62</td>\n",
       "    </tr>\n",
       "    <tr>\n",
       "      <th>19</th>\n",
       "      <td>Ca Mau</td>\n",
       "      <td>80</td>\n",
       "      <td>VN</td>\n",
       "      <td>1544333034</td>\n",
       "      <td>79</td>\n",
       "      <td>9.18</td>\n",
       "      <td>105.15</td>\n",
       "      <td>86.20</td>\n",
       "      <td>13.58</td>\n",
       "    </tr>\n",
       "    <tr>\n",
       "      <th>20</th>\n",
       "      <td>Butaritari</td>\n",
       "      <td>64</td>\n",
       "      <td>KI</td>\n",
       "      <td>1544332873</td>\n",
       "      <td>100</td>\n",
       "      <td>3.07</td>\n",
       "      <td>172.79</td>\n",
       "      <td>85.84</td>\n",
       "      <td>5.41</td>\n",
       "    </tr>\n",
       "    <tr>\n",
       "      <th>21</th>\n",
       "      <td>Cabedelo</td>\n",
       "      <td>20</td>\n",
       "      <td>BR</td>\n",
       "      <td>1544331600</td>\n",
       "      <td>94</td>\n",
       "      <td>-6.97</td>\n",
       "      <td>-34.84</td>\n",
       "      <td>77.00</td>\n",
       "      <td>2.24</td>\n",
       "    </tr>\n",
       "    <tr>\n",
       "      <th>22</th>\n",
       "      <td>East London</td>\n",
       "      <td>75</td>\n",
       "      <td>ZA</td>\n",
       "      <td>1544331600</td>\n",
       "      <td>88</td>\n",
       "      <td>-33.02</td>\n",
       "      <td>27.91</td>\n",
       "      <td>62.60</td>\n",
       "      <td>8.05</td>\n",
       "    </tr>\n",
       "  </tbody>\n",
       "</table>\n",
       "</div>"
      ],
      "text/plain": [
       "              City  Cloudiness Country        Date  Humidity    Lat     Lng  \\\n",
       "0             Hilo          40      US  1544331180        75  19.71 -155.08   \n",
       "1            Vaini           0      IN  1544331600        51  15.34   74.49   \n",
       "2            Warri          24      NG  1544333012        92   5.52    5.75   \n",
       "3   Saint-Philippe          20      CA  1544331600        84  45.36  -73.48   \n",
       "4        Cape Town           0      ZA  1544331600        68 -33.93   18.42   \n",
       "5           Albany           1      US  1544331420        73  42.65  -73.75   \n",
       "6      Port Alfred          88      ZA  1544333017       100 -33.59   26.89   \n",
       "7           Barrow          76      AR  1544333018        39 -38.31  -60.23   \n",
       "8     Puerto Ayora          36      EC  1544332811       100  -0.74  -90.35   \n",
       "9            Kutum           0      SD  1544333020        53  14.20   24.66   \n",
       "10          Hobart          20      AU  1544331600        59 -42.88  147.33   \n",
       "11          Faanui          44      PF  1544333024       100 -16.48 -151.75   \n",
       "12         Xichang           0      CN  1544333025        23  27.88  102.25   \n",
       "13     New Norfolk          20      AU  1544331600        59 -42.78  147.06   \n",
       "14         Rikitea          56      PF  1544333028       100 -23.12 -134.97   \n",
       "15        Tasiilaq          36      GL  1544331000        52  65.61  -37.64   \n",
       "16          Atuona         100      PF  1544332783       100  -9.80 -139.03   \n",
       "17         Ushuaia          75      AR  1544331600        61 -54.81  -68.31   \n",
       "18        Berlevag           8      NO  1544333033       100  70.86   29.09   \n",
       "19          Ca Mau          80      VN  1544333034        79   9.18  105.15   \n",
       "20      Butaritari          64      KI  1544332873       100   3.07  172.79   \n",
       "21        Cabedelo          20      BR  1544331600        94  -6.97  -34.84   \n",
       "22     East London          75      ZA  1544331600        88 -33.02   27.91   \n",
       "\n",
       "    Max Temp  Wind Speed  \n",
       "0      73.04        6.93  \n",
       "1      82.40        5.82  \n",
       "2      74.77        3.02  \n",
       "3      14.54        4.70  \n",
       "4      64.40       13.87  \n",
       "5      24.08        3.36  \n",
       "6      63.29        5.93  \n",
       "7      76.66       14.70  \n",
       "8      71.84        8.05  \n",
       "9      51.91        3.02  \n",
       "10     66.20       12.75  \n",
       "11     80.39       12.41  \n",
       "12     58.79        2.57  \n",
       "13     66.20       12.75  \n",
       "14     76.93       11.45  \n",
       "15     19.40        5.82  \n",
       "16     80.39       16.33  \n",
       "17     48.20        6.93  \n",
       "18     10.28        3.62  \n",
       "19     86.20       13.58  \n",
       "20     85.84        5.41  \n",
       "21     77.00        2.24  \n",
       "22     62.60        8.05  "
      ]
     },
     "execution_count": 13,
     "metadata": {},
     "output_type": "execute_result"
    }
   ],
   "source": [
    "#Display in dataframe\n",
    "weather_df = pd.DataFrame({'City': City,\n",
    "                           'Cloudiness': Cloudiness,\n",
    "                           'Country': Country, \n",
    "                           'Date': Date, \n",
    "                           \"Humidity\": Humidity, \n",
    "                           \"Lat\": Lat, \n",
    "                           \"Lng\": Lng, \n",
    "                           \"Max Temp\": MaxTemp, \n",
    "                           \"Wind Speed\": WindSpeed, })\n",
    "\n",
    "\n",
    "weather_df.to_csv('cities.csv')\n",
    "weather_df"
   ]
  },
  {
   "cell_type": "markdown",
   "metadata": {},
   "source": [
    "### Plotting the Data\n",
    "* Use proper labeling of the plots using plot titles (including date of analysis) and axes labels.\n",
    "* Save the plotted figures as .pngs."
   ]
  },
  {
   "cell_type": "markdown",
   "metadata": {},
   "source": [
    "#### Latitude vs. Temperature Plot"
   ]
  },
  {
   "cell_type": "code",
   "execution_count": 14,
   "metadata": {},
   "outputs": [
    {
     "data": {
      "text/plain": [
       "<function matplotlib.pyplot.show(*args, **kw)>"
      ]
     },
     "execution_count": 14,
     "metadata": {},
     "output_type": "execute_result"
    },
    {
     "data": {
      "image/png": "[encoded data removed]",
      "text/plain": [
       "<Figure size 432x288 with 1 Axes>"
      ]
     },
     "metadata": {
      "needs_background": "light"
     },
     "output_type": "display_data"
    }
   ],
   "source": [
    "#Make a scatter plot with lightblue dots, grid, and other features\n",
    "plt.scatter(Lat, MaxTemp, marker=\"o\", facecolors =\"lightblue\", edgecolors = \"black\")\n",
    "plt.grid(True)\n",
    "plt.title(\"City Latitude vs. Max Temperature (12/8/2018)\")\n",
    "plt.ylabel(\"Max Temperature (F)\")\n",
    "plt.xlabel(\"Latitude\")\n",
    "plt.show"
   ]
  },
  {
   "cell_type": "markdown",
   "metadata": {},
   "source": [
    "#### Latitude vs. Humidity Plot"
   ]
  },
  {
   "cell_type": "code",
   "execution_count": 15,
   "metadata": {},
   "outputs": [
    {
     "data": {
      "text/plain": [
       "<function matplotlib.pyplot.show(*args, **kw)>"
      ]
     },
     "execution_count": 15,
     "metadata": {},
     "output_type": "execute_result"
    },
    {
     "data": {
      "image/png": "[encoded data removed]",
      "text/plain": [
       "<Figure size 432x288 with 1 Axes>"
      ]
     },
     "metadata": {
      "needs_background": "light"
     },
     "output_type": "display_data"
    }
   ],
   "source": [
    "#Make scatter plot for humidity, same style\n",
    "plt.scatter(Lat, Humidity, marker=\"o\", facecolors =\"lightblue\", edgecolors = \"black\")\n",
    "plt.grid(True)\n",
    "plt.title(\"City Latitude vs. Humidity (12/8/2018)\")\n",
    "plt.ylabel(\"Humidity (%)\")\n",
    "plt.xlabel(\"Latitude\")\n",
    "plt.show"
   ]
  },
  {
   "cell_type": "markdown",
   "metadata": {},
   "source": [
    "#### Latitude vs. Cloudiness Plot"
   ]
  },
  {
   "cell_type": "code",
   "execution_count": 16,
   "metadata": {},
   "outputs": [
    {
     "data": {
      "text/plain": [
       "<function matplotlib.pyplot.show(*args, **kw)>"
      ]
     },
     "execution_count": 16,
     "metadata": {},
     "output_type": "execute_result"
    },
    {
     "data": {
      "image/png": "[encoded data removed]",
      "text/plain": [
       "<Figure size 432x288 with 1 Axes>"
      ]
     },
     "metadata": {
      "needs_background": "light"
     },
     "output_type": "display_data"
    }
   ],
   "source": [
    "#Make a scatterplot for Cloudiness, same style\n",
    "plt.scatter(Lat, Cloudiness, marker=\"o\", facecolors =\"lightblue\", edgecolors = \"black\")\n",
    "plt.grid(True)\n",
    "plt.title(\"City Latitude vs. Cloudiness (12/8/2018)\")\n",
    "plt.ylabel(\"Cloudiness (%)\")\n",
    "plt.xlabel(\"Latitude\")\n",
    "plt.show"
   ]
  },
  {
   "cell_type": "markdown",
   "metadata": {},
   "source": [
    "#### Latitude vs. Wind Speed Plot"
   ]
  },
  {
   "cell_type": "code",
   "execution_count": 17,
   "metadata": {},
   "outputs": [
    {
     "data": {
      "text/plain": [
       "<function matplotlib.pyplot.show(*args, **kw)>"
      ]
     },
     "execution_count": 17,
     "metadata": {},
     "output_type": "execute_result"
    },
    {
     "data": {
      "image/png": "[encoded data removed]",
      "text/plain": [
       "<Figure size 432x288 with 1 Axes>"
      ]
     },
     "metadata": {
      "needs_background": "light"
     },
     "output_type": "display_data"
    }
   ],
   "source": [
    "#Make a scatterplot for Windspeed, same style\n",
    "plt.scatter(Lat, WindSpeed, marker=\"o\", facecolors =\"lightblue\", edgecolors = \"black\")\n",
    "plt.grid(True)\n",
    "plt.title(\"City Latitude vs. Wind Speed (12/8/2018)\")\n",
    "plt.ylabel(\"Wind Speed (mph)\")\n",
    "plt.xlabel(\"Latitude\")\n",
    "plt.show"
   ]
  },
  {
   "cell_type": "code",
   "execution_count": null,
   "metadata": {},
   "outputs": [],
   "source": []
  }
 ],
 "metadata": {
  "anaconda-cloud": {},
  "kernelspec": {
   "display_name": "data_env2",
   "language": "python",
   "name": "data_env2"
  },
  "language_info": {
   "codemirror_mode": {
    "name": "ipython",
    "version": 3
   },
   "file_extension": ".py",
   "mimetype": "text/x-python",
   "name": "python",
   "nbconvert_exporter": "python",
   "pygments_lexer": "ipython3",
   "version": "3.7.1"
  }
 },
 "nbformat": 4,
 "nbformat_minor": 2
}
